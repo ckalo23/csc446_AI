{
 "cells": [
  {
   "cell_type": "markdown",
   "id": "e5374608",
   "metadata": {},
   "source": [
    "# More preprocessing (binning, encoding labels, etc.)"
   ]
  },
  {
   "cell_type": "code",
   "execution_count": 900,
   "id": "1c356fa8",
   "metadata": {},
   "outputs": [
    {
     "data": {
      "text/html": [
       "<div>\n",
       "<style scoped>\n",
       "    .dataframe tbody tr th:only-of-type {\n",
       "        vertical-align: middle;\n",
       "    }\n",
       "\n",
       "    .dataframe tbody tr th {\n",
       "        vertical-align: top;\n",
       "    }\n",
       "\n",
       "    .dataframe thead th {\n",
       "        text-align: right;\n",
       "    }\n",
       "</style>\n",
       "<table border=\"1\" class=\"dataframe\">\n",
       "  <thead>\n",
       "    <tr style=\"text-align: right;\">\n",
       "      <th></th>\n",
       "      <th>age</th>\n",
       "      <th>sex</th>\n",
       "      <th>chest_pain</th>\n",
       "      <th>restingBP</th>\n",
       "      <th>cholesterol</th>\n",
       "      <th>fastingBS</th>\n",
       "      <th>restingECG</th>\n",
       "      <th>maxHR</th>\n",
       "      <th>exercise_angina</th>\n",
       "      <th>oldpeak</th>\n",
       "      <th>slope_st</th>\n",
       "      <th>diagnosis</th>\n",
       "    </tr>\n",
       "  </thead>\n",
       "  <tbody>\n",
       "    <tr>\n",
       "      <th>0</th>\n",
       "      <td>42</td>\n",
       "      <td>M</td>\n",
       "      <td>NOA</td>\n",
       "      <td>160</td>\n",
       "      <td>147.0</td>\n",
       "      <td>0</td>\n",
       "      <td>Normal</td>\n",
       "      <td>146</td>\n",
       "      <td>N</td>\n",
       "      <td>0.0</td>\n",
       "      <td>Down</td>\n",
       "      <td>0</td>\n",
       "    </tr>\n",
       "    <tr>\n",
       "      <th>1</th>\n",
       "      <td>42</td>\n",
       "      <td>M</td>\n",
       "      <td>ASY</td>\n",
       "      <td>136</td>\n",
       "      <td>315.0</td>\n",
       "      <td>0</td>\n",
       "      <td>Normal</td>\n",
       "      <td>125</td>\n",
       "      <td>Y</td>\n",
       "      <td>1.8</td>\n",
       "      <td>Flat</td>\n",
       "      <td>1</td>\n",
       "    </tr>\n",
       "    <tr>\n",
       "      <th>2</th>\n",
       "      <td>76</td>\n",
       "      <td>M</td>\n",
       "      <td>NOA</td>\n",
       "      <td>104</td>\n",
       "      <td>239.5</td>\n",
       "      <td>0</td>\n",
       "      <td>LVH</td>\n",
       "      <td>120</td>\n",
       "      <td>N</td>\n",
       "      <td>3.5</td>\n",
       "      <td>Down</td>\n",
       "      <td>1</td>\n",
       "    </tr>\n",
       "    <tr>\n",
       "      <th>3</th>\n",
       "      <td>56</td>\n",
       "      <td>M</td>\n",
       "      <td>ASY</td>\n",
       "      <td>120</td>\n",
       "      <td>239.5</td>\n",
       "      <td>0</td>\n",
       "      <td>ST</td>\n",
       "      <td>148</td>\n",
       "      <td>N</td>\n",
       "      <td>0.0</td>\n",
       "      <td>Flat</td>\n",
       "      <td>1</td>\n",
       "    </tr>\n",
       "    <tr>\n",
       "      <th>4</th>\n",
       "      <td>58</td>\n",
       "      <td>M</td>\n",
       "      <td>ASY</td>\n",
       "      <td>100</td>\n",
       "      <td>213.0</td>\n",
       "      <td>0</td>\n",
       "      <td>ST</td>\n",
       "      <td>110</td>\n",
       "      <td>N</td>\n",
       "      <td>0.0</td>\n",
       "      <td>Up</td>\n",
       "      <td>0</td>\n",
       "    </tr>\n",
       "  </tbody>\n",
       "</table>\n",
       "</div>"
      ],
      "text/plain": [
       "   age sex chest_pain  restingBP  cholesterol  fastingBS restingECG  maxHR  \\\n",
       "0   42   M        NOA        160        147.0          0     Normal    146   \n",
       "1   42   M        ASY        136        315.0          0     Normal    125   \n",
       "2   76   M        NOA        104        239.5          0        LVH    120   \n",
       "3   56   M        ASY        120        239.5          0         ST    148   \n",
       "4   58   M        ASY        100        213.0          0         ST    110   \n",
       "\n",
       "  exercise_angina  oldpeak slope_st  diagnosis  \n",
       "0               N      0.0     Down          0  \n",
       "1               Y      1.8     Flat          1  \n",
       "2               N      3.5     Down          1  \n",
       "3               N      0.0     Flat          1  \n",
       "4               N      0.0       Up          0  "
      ]
     },
     "execution_count": 900,
     "metadata": {},
     "output_type": "execute_result"
    }
   ],
   "source": [
    "import pandas as pd\n",
    "df = pd.read_csv(\"/Users/ckalo7/Documents/CSC 446/final_data/heart_final.csv\")\n",
    "df.head()"
   ]
  },
  {
   "cell_type": "code",
   "execution_count": 901,
   "id": "02b76577",
   "metadata": {},
   "outputs": [],
   "source": [
    "import scipy.stats\n",
    "\n",
    "def ent(data):\n",
    "    p_data = data.value_counts()           # counts occurrence of each value\n",
    "    entropy = scipy.stats.entropy(p_data)  # get entropy from counts\n",
    "    return entropy"
   ]
  },
  {
   "cell_type": "markdown",
   "id": "9a9baea3",
   "metadata": {},
   "source": [
    "Find Entropy before binning continuous vals like age"
   ]
  },
  {
   "cell_type": "code",
   "execution_count": 902,
   "id": "ee9ec7a0",
   "metadata": {},
   "outputs": [
    {
     "name": "stdout",
     "output_type": "stream",
     "text": [
      "age = 3.6214341592503323 \n",
      "sex = 0.519476817215667 \n",
      "chest_pain = 1.1317592805331589 \n",
      "restingBP = 3.08003337410988 \n",
      "cholesterol = 4.5980434539312975 \n",
      "fastingBS = 0.44667003779656334 \n",
      "restingECG = 0.947106107539822 \n",
      "maxHR = 4.307870078612027 \n",
      "exercise_angina = 0.6685540728568362 \n",
      "oldpeak = 2.4782007607855294 \n",
      "slope_st = 0.9204370609305788 \n",
      "DF = 6.801966640115419\n"
     ]
    }
   ],
   "source": [
    "print(\"age\" + \" =\", ent(df['age']), \\\n",
    "      \"\\nsex\" + \" =\", ent(df['sex']), \\\n",
    "      \"\\nchest_pain\" + \" =\", ent(df['chest_pain']), \\\n",
    "      \"\\nrestingBP\" + \" =\", ent(df['restingBP']), \\\n",
    "      \"\\ncholesterol\" + \" =\", ent(df['cholesterol']), \\\n",
    "      \"\\nfastingBS\" + \" =\", ent(df['fastingBS']), \\\n",
    "      \"\\nrestingECG\" + \" =\", ent(df['restingECG']), \\\n",
    "      \"\\nmaxHR\" + \" =\", ent(df['maxHR']), \\\n",
    "      \"\\nexercise_angina\" + \" =\", ent(df['exercise_angina']), \\\n",
    "      \"\\noldpeak\" + \" =\", ent(df['oldpeak']), \\\n",
    "      \"\\nslope_st\" + \" =\", ent(df['slope_st']), \\\n",
    "      \"\\nDF\" + \" =\", ent(df))"
   ]
  },
  {
   "cell_type": "markdown",
   "id": "28954884",
   "metadata": {},
   "source": [
    "Bin values like age to improve infoGain/Entropy"
   ]
  },
  {
   "cell_type": "code",
   "execution_count": 903,
   "id": "e7029309",
   "metadata": {},
   "outputs": [
    {
     "name": "stdout",
     "output_type": "stream",
     "text": [
      "77\n",
      "28\n"
     ]
    }
   ],
   "source": [
    "my_max = df['age'].loc[df['age'].idxmax()]      # max val in column\n",
    "print(my_max)\n",
    "my_min = df['age'].loc[df['age'].idxmin()]      # min val in column\n",
    "print(my_min)"
   ]
  },
  {
   "cell_type": "code",
   "execution_count": 904,
   "id": "a58047a8",
   "metadata": {},
   "outputs": [],
   "source": [
    "df.loc[(df['age'] < 10), 'age'] = 0\n",
    "df.loc[(df['age'] >= 10) & (df['age'] < 20), 'age'] = 1\n",
    "df.loc[(df['age'] >= 20) & (df['age'] < 30), 'age'] = 2\n",
    "df.loc[(df['age'] >= 30) & (df['age'] < 40), 'age'] = 3\n",
    "df.loc[(df['age'] >= 40) & (df['age'] < 50), 'age'] = 4\n",
    "df.loc[(df['age'] >= 50) & (df['age'] < 60), 'age'] = 5\n",
    "df.loc[(df['age'] >= 60) & (df['age'] < 70), 'age'] = 6\n",
    "df.loc[(df['age'] >= 70) & (df['age'] < 80), 'age'] = 7\n",
    "df.loc[(df['age'] >= 80) & (df['age'] < 90), 'age'] = 8"
   ]
  },
  {
   "cell_type": "code",
   "execution_count": 905,
   "id": "c52f6097",
   "metadata": {
    "scrolled": true
   },
   "outputs": [
    {
     "name": "stdout",
     "output_type": "stream",
     "text": [
      "200\n",
      "80\n"
     ]
    }
   ],
   "source": [
    "my_max = df['restingBP'].loc[df['restingBP'].idxmax()]      # max val in column\n",
    "print(my_max)\n",
    "my_min = df['restingBP'].loc[df['restingBP'].idxmin()]      # min val in column\n",
    "print(my_min)"
   ]
  },
  {
   "cell_type": "code",
   "execution_count": 906,
   "id": "aa569fcd",
   "metadata": {},
   "outputs": [],
   "source": [
    "df.loc[(df['restingBP'] < 90), 'restingBP'] = 8\n",
    "df.loc[(df['restingBP'] >= 90) & (df['restingBP'] < 100), 'restingBP'] = 9\n",
    "df.loc[(df['restingBP'] >= 100) & (df['restingBP'] < 110), 'restingBP'] = 10\n",
    "df.loc[(df['restingBP'] >= 110) & (df['restingBP'] < 120), 'restingBP'] = 11\n",
    "df.loc[(df['restingBP'] >= 120) & (df['restingBP'] < 130), 'restingBP'] = 12\n",
    "df.loc[(df['restingBP'] >= 130) & (df['restingBP'] < 140), 'restingBP'] = 13\n",
    "df.loc[(df['restingBP'] >= 140) & (df['restingBP'] < 150), 'restingBP'] = 14\n",
    "df.loc[(df['restingBP'] >= 150) & (df['restingBP'] < 160), 'restingBP'] = 15\n",
    "df.loc[(df['restingBP'] >= 160) & (df['restingBP'] < 170), 'restingBP'] = 16\n",
    "df.loc[(df['restingBP'] >= 170) & (df['restingBP'] < 180), 'restingBP'] = 17\n",
    "df.loc[(df['restingBP'] >= 180) & (df['restingBP'] < 190), 'restingBP'] = 18\n",
    "df.loc[(df['restingBP'] >= 190) & (df['restingBP'] < 200), 'restingBP'] = 19\n",
    "df.loc[(df['restingBP'] >= 200) & (df['restingBP'] < 210), 'restingBP'] = 20"
   ]
  },
  {
   "cell_type": "code",
   "execution_count": 907,
   "id": "cbe3ff5a",
   "metadata": {
    "scrolled": true
   },
   "outputs": [
    {
     "name": "stdout",
     "output_type": "stream",
     "text": [
      "603.0\n",
      "85.0\n"
     ]
    }
   ],
   "source": [
    "my_max = df['cholesterol'].loc[df['cholesterol'].idxmax()]      # max val in column\n",
    "print(my_max)\n",
    "my_min = df['cholesterol'].loc[df['cholesterol'].idxmin()]      # min val in column\n",
    "print(my_min)"
   ]
  },
  {
   "cell_type": "code",
   "execution_count": 908,
   "id": "d1709350",
   "metadata": {},
   "outputs": [],
   "source": [
    "df.loc[(df['cholesterol'] < 100), 'cholesterol'] = 8\n",
    "df.loc[(df['cholesterol'] >= 100) & (df['cholesterol'] < 150), 'cholesterol'] = 10\n",
    "df.loc[(df['cholesterol'] >= 150) & (df['cholesterol'] < 200), 'cholesterol'] = 15\n",
    "df.loc[(df['cholesterol'] >= 200) & (df['cholesterol'] < 250), 'cholesterol'] = 20\n",
    "df.loc[(df['cholesterol'] >= 250) & (df['cholesterol'] < 300), 'cholesterol'] = 25\n",
    "df.loc[(df['cholesterol'] >= 300) & (df['cholesterol'] < 350), 'cholesterol'] = 30\n",
    "df.loc[(df['cholesterol'] >= 350) & (df['cholesterol'] < 400), 'cholesterol'] = 35\n",
    "df.loc[(df['cholesterol'] >= 400) & (df['cholesterol'] < 450), 'cholesterol'] = 40\n",
    "df.loc[(df['cholesterol'] >= 450) & (df['cholesterol'] < 500), 'cholesterol'] = 45\n",
    "df.loc[(df['cholesterol'] >= 500) & (df['cholesterol'] < 550), 'cholesterol'] = 50\n",
    "df.loc[(df['cholesterol'] >= 550) & (df['cholesterol'] < 600), 'cholesterol'] = 55\n",
    "df.loc[(df['cholesterol'] >= 600) & (df['cholesterol'] < 650), 'cholesterol'] = 60"
   ]
  },
  {
   "cell_type": "code",
   "execution_count": 909,
   "id": "9bf70754",
   "metadata": {
    "scrolled": true
   },
   "outputs": [
    {
     "name": "stdout",
     "output_type": "stream",
     "text": [
      "202\n",
      "60\n"
     ]
    }
   ],
   "source": [
    "my_max = df['maxHR'].loc[df['maxHR'].idxmax()]      # max val in column\n",
    "print(my_max)\n",
    "my_min = df['maxHR'].loc[df['maxHR'].idxmin()]      # min val in column\n",
    "print(my_min)"
   ]
  },
  {
   "cell_type": "code",
   "execution_count": 910,
   "id": "2ca6c249",
   "metadata": {},
   "outputs": [],
   "source": [
    "df.loc[(df['maxHR'] < 70), 'maxHR'] = 6\n",
    "df.loc[(df['maxHR'] >= 70) & (df['maxHR'] < 80), 'maxHR'] = 7\n",
    "df.loc[(df['maxHR'] >= 80) & (df['maxHR'] < 90), 'maxHR'] = 8\n",
    "df.loc[(df['maxHR'] >= 90) & (df['maxHR'] < 100), 'maxHR'] = 9\n",
    "df.loc[(df['maxHR'] >= 100) & (df['maxHR'] < 110), 'maxHR'] = 10\n",
    "df.loc[(df['maxHR'] >= 110) & (df['maxHR'] < 120), 'maxHR'] = 11\n",
    "df.loc[(df['maxHR'] >= 120) & (df['maxHR'] < 130), 'maxHR'] = 12\n",
    "df.loc[(df['maxHR'] >= 130) & (df['maxHR'] < 140), 'maxHR'] = 13\n",
    "df.loc[(df['maxHR'] >= 140) & (df['maxHR'] < 150), 'maxHR'] = 14\n",
    "df.loc[(df['maxHR'] >= 150) & (df['maxHR'] < 160), 'maxHR'] = 15\n",
    "df.loc[(df['maxHR'] >= 160) & (df['maxHR'] < 170), 'maxHR'] = 16\n",
    "df.loc[(df['maxHR'] >= 170) & (df['maxHR'] < 180), 'maxHR'] = 17\n",
    "df.loc[(df['maxHR'] >= 180) & (df['maxHR'] < 190), 'maxHR'] = 18\n",
    "df.loc[(df['maxHR'] >= 190) & (df['maxHR'] < 200), 'maxHR'] = 19\n",
    "df.loc[(df['maxHR'] >= 200) & (df['maxHR'] < 210), 'maxHR'] = 20"
   ]
  },
  {
   "cell_type": "code",
   "execution_count": 911,
   "id": "5c5c5b26",
   "metadata": {
    "scrolled": true
   },
   "outputs": [
    {
     "name": "stdout",
     "output_type": "stream",
     "text": [
      "6.2\n",
      "-2.6\n"
     ]
    }
   ],
   "source": [
    "my_max = df['oldpeak'].loc[df['oldpeak'].idxmax()]      # max val in column\n",
    "print(my_max)\n",
    "my_min = df['oldpeak'].loc[df['oldpeak'].idxmin()]      # min val in column\n",
    "print(my_min)"
   ]
  },
  {
   "cell_type": "code",
   "execution_count": 912,
   "id": "ce20cf47",
   "metadata": {},
   "outputs": [],
   "source": [
    "df.loc[(df['oldpeak'] < -1.5), 'oldpeak'] = -2\n",
    "df.loc[(df['oldpeak'] >= -1.5) & (df['oldpeak'] < .5), 'oldpeak'] = -1\n",
    "df.loc[(df['oldpeak'] >= -0.5) & (df['oldpeak'] < 0.5), 'oldpeak'] = 0\n",
    "df.loc[(df['oldpeak'] >= 0.5) & (df['oldpeak'] < 1.5), 'oldpeak'] = 1\n",
    "df.loc[(df['oldpeak'] >= 1.5) & (df['oldpeak'] < 2.5), 'oldpeak'] = 2\n",
    "df.loc[(df['oldpeak'] >= 2.5) & (df['oldpeak'] < 3.5), 'oldpeak'] = 3\n",
    "df.loc[(df['oldpeak'] >= 3.5) & (df['oldpeak'] < 4.5), 'oldpeak'] = 4\n",
    "df.loc[(df['oldpeak'] >= 4.5) & (df['oldpeak'] < 5.5), 'oldpeak'] = 5\n",
    "df.loc[(df['oldpeak'] >= 5.5) & (df['oldpeak'] < 6.5), 'oldpeak'] = 6"
   ]
  },
  {
   "cell_type": "code",
   "execution_count": 913,
   "id": "b10275d9",
   "metadata": {
    "scrolled": true
   },
   "outputs": [
    {
     "data": {
      "text/html": [
       "<div>\n",
       "<style scoped>\n",
       "    .dataframe tbody tr th:only-of-type {\n",
       "        vertical-align: middle;\n",
       "    }\n",
       "\n",
       "    .dataframe tbody tr th {\n",
       "        vertical-align: top;\n",
       "    }\n",
       "\n",
       "    .dataframe thead th {\n",
       "        text-align: right;\n",
       "    }\n",
       "</style>\n",
       "<table border=\"1\" class=\"dataframe\">\n",
       "  <thead>\n",
       "    <tr style=\"text-align: right;\">\n",
       "      <th></th>\n",
       "      <th>age</th>\n",
       "      <th>sex</th>\n",
       "      <th>chest_pain</th>\n",
       "      <th>restingBP</th>\n",
       "      <th>cholesterol</th>\n",
       "      <th>fastingBS</th>\n",
       "      <th>restingECG</th>\n",
       "      <th>maxHR</th>\n",
       "      <th>exercise_angina</th>\n",
       "      <th>oldpeak</th>\n",
       "      <th>slope_st</th>\n",
       "      <th>diagnosis</th>\n",
       "    </tr>\n",
       "  </thead>\n",
       "  <tbody>\n",
       "    <tr>\n",
       "      <th>0</th>\n",
       "      <td>4</td>\n",
       "      <td>M</td>\n",
       "      <td>NOA</td>\n",
       "      <td>16</td>\n",
       "      <td>10.0</td>\n",
       "      <td>0</td>\n",
       "      <td>Normal</td>\n",
       "      <td>14</td>\n",
       "      <td>N</td>\n",
       "      <td>-1.0</td>\n",
       "      <td>Down</td>\n",
       "      <td>0</td>\n",
       "    </tr>\n",
       "    <tr>\n",
       "      <th>1</th>\n",
       "      <td>4</td>\n",
       "      <td>M</td>\n",
       "      <td>ASY</td>\n",
       "      <td>13</td>\n",
       "      <td>30.0</td>\n",
       "      <td>0</td>\n",
       "      <td>Normal</td>\n",
       "      <td>12</td>\n",
       "      <td>Y</td>\n",
       "      <td>2.0</td>\n",
       "      <td>Flat</td>\n",
       "      <td>1</td>\n",
       "    </tr>\n",
       "    <tr>\n",
       "      <th>2</th>\n",
       "      <td>7</td>\n",
       "      <td>M</td>\n",
       "      <td>NOA</td>\n",
       "      <td>10</td>\n",
       "      <td>20.0</td>\n",
       "      <td>0</td>\n",
       "      <td>LVH</td>\n",
       "      <td>12</td>\n",
       "      <td>N</td>\n",
       "      <td>4.0</td>\n",
       "      <td>Down</td>\n",
       "      <td>1</td>\n",
       "    </tr>\n",
       "    <tr>\n",
       "      <th>3</th>\n",
       "      <td>5</td>\n",
       "      <td>M</td>\n",
       "      <td>ASY</td>\n",
       "      <td>12</td>\n",
       "      <td>20.0</td>\n",
       "      <td>0</td>\n",
       "      <td>ST</td>\n",
       "      <td>14</td>\n",
       "      <td>N</td>\n",
       "      <td>-1.0</td>\n",
       "      <td>Flat</td>\n",
       "      <td>1</td>\n",
       "    </tr>\n",
       "    <tr>\n",
       "      <th>4</th>\n",
       "      <td>5</td>\n",
       "      <td>M</td>\n",
       "      <td>ASY</td>\n",
       "      <td>10</td>\n",
       "      <td>20.0</td>\n",
       "      <td>0</td>\n",
       "      <td>ST</td>\n",
       "      <td>11</td>\n",
       "      <td>N</td>\n",
       "      <td>-1.0</td>\n",
       "      <td>Up</td>\n",
       "      <td>0</td>\n",
       "    </tr>\n",
       "  </tbody>\n",
       "</table>\n",
       "</div>"
      ],
      "text/plain": [
       "   age sex chest_pain  restingBP  cholesterol  fastingBS restingECG  maxHR  \\\n",
       "0    4   M        NOA         16         10.0          0     Normal     14   \n",
       "1    4   M        ASY         13         30.0          0     Normal     12   \n",
       "2    7   M        NOA         10         20.0          0        LVH     12   \n",
       "3    5   M        ASY         12         20.0          0         ST     14   \n",
       "4    5   M        ASY         10         20.0          0         ST     11   \n",
       "\n",
       "  exercise_angina  oldpeak slope_st  diagnosis  \n",
       "0               N     -1.0     Down          0  \n",
       "1               Y      2.0     Flat          1  \n",
       "2               N      4.0     Down          1  \n",
       "3               N     -1.0     Flat          1  \n",
       "4               N     -1.0       Up          0  "
      ]
     },
     "execution_count": 913,
     "metadata": {},
     "output_type": "execute_result"
    }
   ],
   "source": [
    "df.head()"
   ]
  },
  {
   "cell_type": "code",
   "execution_count": 914,
   "id": "7b86d3d7",
   "metadata": {
    "scrolled": true
   },
   "outputs": [
    {
     "data": {
      "text/plain": [
       "age                  int64\n",
       "sex                 object\n",
       "chest_pain          object\n",
       "restingBP            int64\n",
       "cholesterol        float64\n",
       "fastingBS            int64\n",
       "restingECG          object\n",
       "maxHR                int64\n",
       "exercise_angina     object\n",
       "oldpeak            float64\n",
       "slope_st            object\n",
       "diagnosis            int64\n",
       "dtype: object"
      ]
     },
     "execution_count": 914,
     "metadata": {},
     "output_type": "execute_result"
    }
   ],
   "source": [
    "df.dtypes"
   ]
  },
  {
   "cell_type": "code",
   "execution_count": 915,
   "id": "10a864f8",
   "metadata": {},
   "outputs": [
    {
     "name": "stdout",
     "output_type": "stream",
     "text": [
      "age = 1.3903366988151937 \n",
      "sex = 0.519476817215667 \n",
      "chest_pain = 1.1317592805331589 \n",
      "restingBP = 1.9959679603350395 \n",
      "cholesterol = 1.3660020073924344 \n",
      "fastingBS = 0.44667003779656334 \n",
      "restingECG = 0.947106107539822 \n",
      "maxHR = 2.32753608840209 \n",
      "exercise_angina = 0.6685540728568362 \n",
      "oldpeak = 1.3231007341612537 \n",
      "slope_st = 0.9204370609305788 \n",
      "DF = 6.7875383411211425\n"
     ]
    }
   ],
   "source": [
    "print(\"age\" + \" =\", ent(df['age']), \\\n",
    "      \"\\nsex\" + \" =\", ent(df['sex']), \\\n",
    "      \"\\nchest_pain\" + \" =\", ent(df['chest_pain']), \\\n",
    "      \"\\nrestingBP\" + \" =\", ent(df['restingBP']), \\\n",
    "      \"\\ncholesterol\" + \" =\", ent(df['cholesterol']), \\\n",
    "      \"\\nfastingBS\" + \" =\", ent(df['fastingBS']), \\\n",
    "      \"\\nrestingECG\" + \" =\", ent(df['restingECG']), \\\n",
    "      \"\\nmaxHR\" + \" =\", ent(df['maxHR']), \\\n",
    "      \"\\nexercise_angina\" + \" =\", ent(df['exercise_angina']), \\\n",
    "      \"\\noldpeak\" + \" =\", ent(df['oldpeak']), \\\n",
    "      \"\\nslope_st\" + \" =\", ent(df['slope_st']), \\\n",
    "      \"\\nDF\" + \" =\", ent(df))\n",
    "     "
   ]
  },
  {
   "cell_type": "markdown",
   "id": "9ea32c05",
   "metadata": {},
   "source": [
    "After viewing Entropy, drop those with higher Entropy (lower Info Gain)\n",
    "- Usually, these values are continuous numerics (in this case, most)"
   ]
  },
  {
   "cell_type": "code",
   "execution_count": 916,
   "id": "abd69e71",
   "metadata": {},
   "outputs": [],
   "source": [
    "#df.drop(df.iloc[:, [0,3,4,7,9]], inplace=True, axis='columns')\n",
    "#df"
   ]
  },
  {
   "cell_type": "code",
   "execution_count": 917,
   "id": "e7e9e14e",
   "metadata": {},
   "outputs": [],
   "source": [
    "inputs = df.drop('diagnosis', axis='columns')\n",
    "target = df['diagnosis']"
   ]
  },
  {
   "cell_type": "markdown",
   "id": "f98b5f75",
   "metadata": {},
   "source": [
    "Encode the attribute labels into numbers"
   ]
  },
  {
   "cell_type": "code",
   "execution_count": 918,
   "id": "e4e290c1",
   "metadata": {},
   "outputs": [],
   "source": [
    "from sklearn.preprocessing import LabelEncoder"
   ]
  },
  {
   "cell_type": "code",
   "execution_count": 919,
   "id": "447bf4f0",
   "metadata": {},
   "outputs": [],
   "source": [
    "le_sex = LabelEncoder()\n",
    "le_cp = LabelEncoder()\n",
    "le_recg = LabelEncoder()\n",
    "le_exan = LabelEncoder()\n",
    "le_slo = LabelEncoder()"
   ]
  },
  {
   "cell_type": "code",
   "execution_count": 920,
   "id": "293c5429",
   "metadata": {},
   "outputs": [
    {
     "data": {
      "text/html": [
       "<div>\n",
       "<style scoped>\n",
       "    .dataframe tbody tr th:only-of-type {\n",
       "        vertical-align: middle;\n",
       "    }\n",
       "\n",
       "    .dataframe tbody tr th {\n",
       "        vertical-align: top;\n",
       "    }\n",
       "\n",
       "    .dataframe thead th {\n",
       "        text-align: right;\n",
       "    }\n",
       "</style>\n",
       "<table border=\"1\" class=\"dataframe\">\n",
       "  <thead>\n",
       "    <tr style=\"text-align: right;\">\n",
       "      <th></th>\n",
       "      <th>age</th>\n",
       "      <th>sex</th>\n",
       "      <th>chest_pain</th>\n",
       "      <th>restingBP</th>\n",
       "      <th>cholesterol</th>\n",
       "      <th>fastingBS</th>\n",
       "      <th>restingECG</th>\n",
       "      <th>maxHR</th>\n",
       "      <th>exercise_angina</th>\n",
       "      <th>oldpeak</th>\n",
       "      <th>slope_st</th>\n",
       "      <th>sex_n</th>\n",
       "      <th>cp_n</th>\n",
       "      <th>recg_n</th>\n",
       "      <th>exan_n</th>\n",
       "      <th>slo_n</th>\n",
       "    </tr>\n",
       "  </thead>\n",
       "  <tbody>\n",
       "    <tr>\n",
       "      <th>0</th>\n",
       "      <td>4</td>\n",
       "      <td>M</td>\n",
       "      <td>NOA</td>\n",
       "      <td>16</td>\n",
       "      <td>10.0</td>\n",
       "      <td>0</td>\n",
       "      <td>Normal</td>\n",
       "      <td>14</td>\n",
       "      <td>N</td>\n",
       "      <td>-1.0</td>\n",
       "      <td>Down</td>\n",
       "      <td>1</td>\n",
       "      <td>2</td>\n",
       "      <td>1</td>\n",
       "      <td>0</td>\n",
       "      <td>0</td>\n",
       "    </tr>\n",
       "    <tr>\n",
       "      <th>1</th>\n",
       "      <td>4</td>\n",
       "      <td>M</td>\n",
       "      <td>ASY</td>\n",
       "      <td>13</td>\n",
       "      <td>30.0</td>\n",
       "      <td>0</td>\n",
       "      <td>Normal</td>\n",
       "      <td>12</td>\n",
       "      <td>Y</td>\n",
       "      <td>2.0</td>\n",
       "      <td>Flat</td>\n",
       "      <td>1</td>\n",
       "      <td>0</td>\n",
       "      <td>1</td>\n",
       "      <td>1</td>\n",
       "      <td>1</td>\n",
       "    </tr>\n",
       "    <tr>\n",
       "      <th>2</th>\n",
       "      <td>7</td>\n",
       "      <td>M</td>\n",
       "      <td>NOA</td>\n",
       "      <td>10</td>\n",
       "      <td>20.0</td>\n",
       "      <td>0</td>\n",
       "      <td>LVH</td>\n",
       "      <td>12</td>\n",
       "      <td>N</td>\n",
       "      <td>4.0</td>\n",
       "      <td>Down</td>\n",
       "      <td>1</td>\n",
       "      <td>2</td>\n",
       "      <td>0</td>\n",
       "      <td>0</td>\n",
       "      <td>0</td>\n",
       "    </tr>\n",
       "    <tr>\n",
       "      <th>3</th>\n",
       "      <td>5</td>\n",
       "      <td>M</td>\n",
       "      <td>ASY</td>\n",
       "      <td>12</td>\n",
       "      <td>20.0</td>\n",
       "      <td>0</td>\n",
       "      <td>ST</td>\n",
       "      <td>14</td>\n",
       "      <td>N</td>\n",
       "      <td>-1.0</td>\n",
       "      <td>Flat</td>\n",
       "      <td>1</td>\n",
       "      <td>0</td>\n",
       "      <td>2</td>\n",
       "      <td>0</td>\n",
       "      <td>1</td>\n",
       "    </tr>\n",
       "    <tr>\n",
       "      <th>4</th>\n",
       "      <td>5</td>\n",
       "      <td>M</td>\n",
       "      <td>ASY</td>\n",
       "      <td>10</td>\n",
       "      <td>20.0</td>\n",
       "      <td>0</td>\n",
       "      <td>ST</td>\n",
       "      <td>11</td>\n",
       "      <td>N</td>\n",
       "      <td>-1.0</td>\n",
       "      <td>Up</td>\n",
       "      <td>1</td>\n",
       "      <td>0</td>\n",
       "      <td>2</td>\n",
       "      <td>0</td>\n",
       "      <td>2</td>\n",
       "    </tr>\n",
       "  </tbody>\n",
       "</table>\n",
       "</div>"
      ],
      "text/plain": [
       "   age sex chest_pain  restingBP  cholesterol  fastingBS restingECG  maxHR  \\\n",
       "0    4   M        NOA         16         10.0          0     Normal     14   \n",
       "1    4   M        ASY         13         30.0          0     Normal     12   \n",
       "2    7   M        NOA         10         20.0          0        LVH     12   \n",
       "3    5   M        ASY         12         20.0          0         ST     14   \n",
       "4    5   M        ASY         10         20.0          0         ST     11   \n",
       "\n",
       "  exercise_angina  oldpeak slope_st  sex_n  cp_n  recg_n  exan_n  slo_n  \n",
       "0               N     -1.0     Down      1     2       1       0      0  \n",
       "1               Y      2.0     Flat      1     0       1       1      1  \n",
       "2               N      4.0     Down      1     2       0       0      0  \n",
       "3               N     -1.0     Flat      1     0       2       0      1  \n",
       "4               N     -1.0       Up      1     0       2       0      2  "
      ]
     },
     "execution_count": 920,
     "metadata": {},
     "output_type": "execute_result"
    }
   ],
   "source": [
    "inputs['sex_n'] = le_sex.fit_transform(inputs['sex'])\n",
    "inputs['cp_n'] = le_cp.fit_transform(inputs['chest_pain'])\n",
    "inputs['recg_n'] = le_recg.fit_transform(inputs['restingECG'])\n",
    "inputs['exan_n'] = le_exan.fit_transform(inputs['exercise_angina'])\n",
    "inputs['slo_n'] = le_slo.fit_transform(inputs['slope_st'])\n",
    "inputs.head()"
   ]
  },
  {
   "cell_type": "code",
   "execution_count": 921,
   "id": "a38ec53b",
   "metadata": {
    "scrolled": false
   },
   "outputs": [
    {
     "data": {
      "text/html": [
       "<div>\n",
       "<style scoped>\n",
       "    .dataframe tbody tr th:only-of-type {\n",
       "        vertical-align: middle;\n",
       "    }\n",
       "\n",
       "    .dataframe tbody tr th {\n",
       "        vertical-align: top;\n",
       "    }\n",
       "\n",
       "    .dataframe thead th {\n",
       "        text-align: right;\n",
       "    }\n",
       "</style>\n",
       "<table border=\"1\" class=\"dataframe\">\n",
       "  <thead>\n",
       "    <tr style=\"text-align: right;\">\n",
       "      <th></th>\n",
       "      <th>age</th>\n",
       "      <th>restingBP</th>\n",
       "      <th>cholesterol</th>\n",
       "      <th>fastingBS</th>\n",
       "      <th>maxHR</th>\n",
       "      <th>oldpeak</th>\n",
       "      <th>sex_n</th>\n",
       "      <th>cp_n</th>\n",
       "      <th>recg_n</th>\n",
       "      <th>exan_n</th>\n",
       "      <th>slo_n</th>\n",
       "    </tr>\n",
       "  </thead>\n",
       "  <tbody>\n",
       "    <tr>\n",
       "      <th>0</th>\n",
       "      <td>4</td>\n",
       "      <td>16</td>\n",
       "      <td>10.0</td>\n",
       "      <td>0</td>\n",
       "      <td>14</td>\n",
       "      <td>-1.0</td>\n",
       "      <td>1</td>\n",
       "      <td>2</td>\n",
       "      <td>1</td>\n",
       "      <td>0</td>\n",
       "      <td>0</td>\n",
       "    </tr>\n",
       "    <tr>\n",
       "      <th>1</th>\n",
       "      <td>4</td>\n",
       "      <td>13</td>\n",
       "      <td>30.0</td>\n",
       "      <td>0</td>\n",
       "      <td>12</td>\n",
       "      <td>2.0</td>\n",
       "      <td>1</td>\n",
       "      <td>0</td>\n",
       "      <td>1</td>\n",
       "      <td>1</td>\n",
       "      <td>1</td>\n",
       "    </tr>\n",
       "    <tr>\n",
       "      <th>2</th>\n",
       "      <td>7</td>\n",
       "      <td>10</td>\n",
       "      <td>20.0</td>\n",
       "      <td>0</td>\n",
       "      <td>12</td>\n",
       "      <td>4.0</td>\n",
       "      <td>1</td>\n",
       "      <td>2</td>\n",
       "      <td>0</td>\n",
       "      <td>0</td>\n",
       "      <td>0</td>\n",
       "    </tr>\n",
       "    <tr>\n",
       "      <th>3</th>\n",
       "      <td>5</td>\n",
       "      <td>12</td>\n",
       "      <td>20.0</td>\n",
       "      <td>0</td>\n",
       "      <td>14</td>\n",
       "      <td>-1.0</td>\n",
       "      <td>1</td>\n",
       "      <td>0</td>\n",
       "      <td>2</td>\n",
       "      <td>0</td>\n",
       "      <td>1</td>\n",
       "    </tr>\n",
       "    <tr>\n",
       "      <th>4</th>\n",
       "      <td>5</td>\n",
       "      <td>10</td>\n",
       "      <td>20.0</td>\n",
       "      <td>0</td>\n",
       "      <td>11</td>\n",
       "      <td>-1.0</td>\n",
       "      <td>1</td>\n",
       "      <td>0</td>\n",
       "      <td>2</td>\n",
       "      <td>0</td>\n",
       "      <td>2</td>\n",
       "    </tr>\n",
       "  </tbody>\n",
       "</table>\n",
       "</div>"
      ],
      "text/plain": [
       "   age  restingBP  cholesterol  fastingBS  maxHR  oldpeak  sex_n  cp_n  \\\n",
       "0    4         16         10.0          0     14     -1.0      1     2   \n",
       "1    4         13         30.0          0     12      2.0      1     0   \n",
       "2    7         10         20.0          0     12      4.0      1     2   \n",
       "3    5         12         20.0          0     14     -1.0      1     0   \n",
       "4    5         10         20.0          0     11     -1.0      1     0   \n",
       "\n",
       "   recg_n  exan_n  slo_n  \n",
       "0       1       0      0  \n",
       "1       1       1      1  \n",
       "2       0       0      0  \n",
       "3       2       0      1  \n",
       "4       2       0      2  "
      ]
     },
     "execution_count": 921,
     "metadata": {},
     "output_type": "execute_result"
    }
   ],
   "source": [
    "inputs_n = inputs.drop(inputs.iloc[:, [1,2,6,8,10]], axis='columns')\n",
    "inputs_n.head()"
   ]
  },
  {
   "cell_type": "markdown",
   "id": "9b7f08b5",
   "metadata": {},
   "source": [
    "# Decision Tree"
   ]
  },
  {
   "cell_type": "code",
   "execution_count": 922,
   "id": "95dab4dd",
   "metadata": {},
   "outputs": [],
   "source": [
    "from sklearn import tree\n",
    "from sklearn.model_selection import train_test_split"
   ]
  },
  {
   "cell_type": "code",
   "execution_count": 1021,
   "id": "fe0d6298",
   "metadata": {},
   "outputs": [],
   "source": [
    "model = tree.DecisionTreeClassifier(random_state=0, max_depth=5)"
   ]
  },
  {
   "cell_type": "code",
   "execution_count": 1022,
   "id": "91b5c44d",
   "metadata": {
    "scrolled": false
   },
   "outputs": [
    {
     "data": {
      "text/plain": [
       "DecisionTreeClassifier(max_depth=5, random_state=0)"
      ]
     },
     "execution_count": 1022,
     "metadata": {},
     "output_type": "execute_result"
    }
   ],
   "source": [
    "model.fit(inputs_n, target)"
   ]
  },
  {
   "cell_type": "code",
   "execution_count": 1023,
   "id": "d0c02825",
   "metadata": {
    "scrolled": true
   },
   "outputs": [
    {
     "data": {
      "text/plain": [
       "0.8235294117647058"
      ]
     },
     "execution_count": 1023,
     "metadata": {},
     "output_type": "execute_result"
    }
   ],
   "source": [
    "model.score(inputs_n,target)"
   ]
  },
  {
   "cell_type": "code",
   "execution_count": 1024,
   "id": "bed99307",
   "metadata": {},
   "outputs": [],
   "source": [
    "X_train, X_test, y_train, y_test = train_test_split(inputs_n,target,test_size=0.25)"
   ]
  },
  {
   "cell_type": "code",
   "execution_count": 1025,
   "id": "78b37e0e",
   "metadata": {},
   "outputs": [
    {
     "data": {
      "text/plain": [
       "675"
      ]
     },
     "execution_count": 1025,
     "metadata": {},
     "output_type": "execute_result"
    }
   ],
   "source": [
    "len(X_train)"
   ]
  },
  {
   "cell_type": "code",
   "execution_count": 1026,
   "id": "2fca3d80",
   "metadata": {},
   "outputs": [
    {
     "data": {
      "text/plain": [
       "226"
      ]
     },
     "execution_count": 1026,
     "metadata": {},
     "output_type": "execute_result"
    }
   ],
   "source": [
    "len(X_test)"
   ]
  },
  {
   "cell_type": "code",
   "execution_count": 1027,
   "id": "c7d58f03",
   "metadata": {},
   "outputs": [
    {
     "data": {
      "text/plain": [
       "DecisionTreeClassifier(max_depth=5, random_state=0)"
      ]
     },
     "execution_count": 1027,
     "metadata": {},
     "output_type": "execute_result"
    }
   ],
   "source": [
    "model.fit(X_train,y_train)"
   ]
  },
  {
   "cell_type": "code",
   "execution_count": 1028,
   "id": "6e6e2a54",
   "metadata": {},
   "outputs": [
    {
     "data": {
      "text/plain": [
       "0.8185840707964602"
      ]
     },
     "execution_count": 1028,
     "metadata": {},
     "output_type": "execute_result"
    }
   ],
   "source": [
    "model.score(X_test,y_test)"
   ]
  },
  {
   "cell_type": "code",
   "execution_count": 1029,
   "id": "357dd493",
   "metadata": {},
   "outputs": [],
   "source": [
    "y_pred = model.predict(X_test)"
   ]
  },
  {
   "cell_type": "markdown",
   "id": "e61df970",
   "metadata": {},
   "source": [
    "**Confusion Matrix**"
   ]
  },
  {
   "cell_type": "code",
   "execution_count": 1030,
   "id": "0a5f2760",
   "metadata": {},
   "outputs": [
    {
     "data": {
      "text/plain": [
       "array([[ 70,  21],\n",
       "       [ 20, 115]])"
      ]
     },
     "execution_count": 1030,
     "metadata": {},
     "output_type": "execute_result"
    }
   ],
   "source": [
    "from sklearn.metrics import confusion_matrix\n",
    "cm = confusion_matrix(y_test, y_pred)\n",
    "cm"
   ]
  },
  {
   "cell_type": "code",
   "execution_count": 1031,
   "id": "d32ac4fd",
   "metadata": {},
   "outputs": [
    {
     "data": {
      "text/plain": [
       "Text(58.222222222222214, 0.5, 'Truth')"
      ]
     },
     "execution_count": 1031,
     "metadata": {},
     "output_type": "execute_result"
    },
    {
     "data": {
      "image/png": "[encoded data removed]",
      "text/plain": [
       "<Figure size 700x500 with 2 Axes>"
      ]
     },
     "metadata": {
      "needs_background": "light"
     },
     "output_type": "display_data"
    }
   ],
   "source": [
    "%matplotlib inline\n",
    "import matplotlib.pyplot as plt\n",
    "import seaborn as sn\n",
    "plt.figure(figsize=(7,5), dpi=100)\n",
    "sn.heatmap(cm, annot=True, fmt='g')\n",
    "plt.xlabel('Predicted')\n",
    "plt.ylabel('Truth')"
   ]
  },
  {
   "cell_type": "code",
   "execution_count": 1032,
   "id": "9c5570b4",
   "metadata": {
    "scrolled": true
   },
   "outputs": [
    {
     "name": "stdout",
     "output_type": "stream",
     "text": [
      "              precision    recall  f1-score   support\n",
      "\n",
      "           0     0.7778    0.7692    0.7735        91\n",
      "           1     0.8456    0.8519    0.8487       135\n",
      "\n",
      "    accuracy                         0.8186       226\n",
      "   macro avg     0.8117    0.8105    0.8111       226\n",
      "weighted avg     0.8183    0.8186    0.8184       226\n",
      "\n"
     ]
    }
   ],
   "source": [
    "from sklearn.metrics import classification_report\n",
    "print(classification_report(y_test, y_pred, digits=4))"
   ]
  },
  {
   "cell_type": "code",
   "execution_count": 1033,
   "id": "5a45756d",
   "metadata": {},
   "outputs": [
    {
     "data": {
      "image/png": "[encoded data removed]",
      "text/plain": [
       "<Figure size 700x500 with 1 Axes>"
      ]
     },
     "metadata": {
      "needs_background": "light"
     },
     "output_type": "display_data"
    }
   ],
   "source": [
    "from sklearn.metrics import roc_auc_score\n",
    "\n",
    "auc = metrics.roc_auc_score(y_test, y_pred)\n",
    "fp_rate, tp_rate, thresholds = metrics.roc_curve(y_test, y_pred)\n",
    "\n",
    "plt.figure(figsize=(7, 5), dpi=100)\n",
    "plt.axis('scaled')\n",
    "plt.xlim([0, 1])\n",
    "plt.ylim([0, 1])\n",
    "plt.title(\"AUC & ROC Curve\")\n",
    "plt.plot(fp_rate, tp_rate, 'g')\n",
    "plt.fill_between(fp_rate, tp_rate, facecolor='lightgreen', alpha=0.7)\n",
    "plt.text(0.95, 0.05, 'AUC = %0.4f' % auc, ha='right', fontsize=12, weight='bold', color='blue')\n",
    "plt.xlabel(\"False Positive Rate\")\n",
    "plt.ylabel(\"True Positive Rate\")\n",
    "plt.show()"
   ]
  },
  {
   "cell_type": "markdown",
   "id": "4fce15cd",
   "metadata": {},
   "source": [
    "# Random Forest"
   ]
  },
  {
   "cell_type": "code",
   "execution_count": 1171,
   "id": "1f3eaa60",
   "metadata": {
    "scrolled": true
   },
   "outputs": [
    {
     "data": {
      "text/plain": [
       "RandomForestClassifier()"
      ]
     },
     "execution_count": 1171,
     "metadata": {},
     "output_type": "execute_result"
    }
   ],
   "source": [
    "from sklearn.ensemble import RandomForestClassifier\n",
    "model = RandomForestClassifier(n_estimators=100)\n",
    "model.fit(X_train, y_train)"
   ]
  },
  {
   "cell_type": "code",
   "execution_count": 1172,
   "id": "f2254a85",
   "metadata": {},
   "outputs": [
    {
     "data": {
      "text/plain": [
       "0.8584070796460177"
      ]
     },
     "execution_count": 1172,
     "metadata": {},
     "output_type": "execute_result"
    }
   ],
   "source": [
    "model.score(X_test, y_test)"
   ]
  },
  {
   "cell_type": "code",
   "execution_count": 1173,
   "id": "ae0b6831",
   "metadata": {},
   "outputs": [],
   "source": [
    "y_pred = model.predict(X_test)"
   ]
  },
  {
   "cell_type": "markdown",
   "id": "c5f7214e",
   "metadata": {},
   "source": [
    "**Confusion Matrix**"
   ]
  },
  {
   "cell_type": "code",
   "execution_count": 1174,
   "id": "dc449d64",
   "metadata": {},
   "outputs": [
    {
     "data": {
      "text/plain": [
       "array([[ 76,  15],\n",
       "       [ 17, 118]])"
      ]
     },
     "execution_count": 1174,
     "metadata": {},
     "output_type": "execute_result"
    }
   ],
   "source": [
    "from sklearn.metrics import confusion_matrix\n",
    "cm = confusion_matrix(y_test, y_pred)\n",
    "cm"
   ]
  },
  {
   "cell_type": "code",
   "execution_count": 1175,
   "id": "7e481cdf",
   "metadata": {
    "scrolled": true
   },
   "outputs": [
    {
     "data": {
      "text/plain": [
       "Text(58.222222222222214, 0.5, 'Truth')"
      ]
     },
     "execution_count": 1175,
     "metadata": {},
     "output_type": "execute_result"
    },
    {
     "data": {
      "image/png": "[encoded data removed]",
      "text/plain": [
       "<Figure size 700x500 with 2 Axes>"
      ]
     },
     "metadata": {
      "needs_background": "light"
     },
     "output_type": "display_data"
    }
   ],
   "source": [
    "%matplotlib inline\n",
    "import matplotlib.pyplot as plt\n",
    "import seaborn as sn\n",
    "plt.figure(figsize=(7,5), dpi=100)\n",
    "sn.heatmap(cm, annot=True, fmt='g')\n",
    "plt.xlabel('Predicted')\n",
    "plt.ylabel('Truth')"
   ]
  },
  {
   "cell_type": "code",
   "execution_count": 1176,
   "id": "37d13292",
   "metadata": {
    "scrolled": true
   },
   "outputs": [
    {
     "name": "stdout",
     "output_type": "stream",
     "text": [
      "              precision    recall  f1-score   support\n",
      "\n",
      "           0     0.8172    0.8352    0.8261        91\n",
      "           1     0.8872    0.8741    0.8806       135\n",
      "\n",
      "    accuracy                         0.8584       226\n",
      "   macro avg     0.8522    0.8546    0.8533       226\n",
      "weighted avg     0.8590    0.8584    0.8586       226\n",
      "\n"
     ]
    }
   ],
   "source": [
    "from sklearn.metrics import classification_report\n",
    "print(classification_report(y_test, y_pred, digits=4))"
   ]
  },
  {
   "cell_type": "code",
   "execution_count": 1177,
   "id": "44450269",
   "metadata": {},
   "outputs": [
    {
     "data": {
      "image/png": "[encoded data removed]",
      "text/plain": [
       "<Figure size 700x500 with 1 Axes>"
      ]
     },
     "metadata": {
      "needs_background": "light"
     },
     "output_type": "display_data"
    }
   ],
   "source": [
    "from sklearn.metrics import roc_auc_score\n",
    "\n",
    "auc = metrics.roc_auc_score(y_test, y_pred)\n",
    "fp_rate, tp_rate, thresholds = metrics.roc_curve(y_test, y_pred)\n",
    "\n",
    "plt.figure(figsize=(7, 5), dpi=100)\n",
    "plt.axis('scaled')\n",
    "plt.xlim([0, 1])\n",
    "plt.ylim([0, 1])\n",
    "plt.title(\"AUC & ROC Curve\")\n",
    "plt.plot(fp_rate, tp_rate, 'g')\n",
    "plt.fill_between(fp_rate, tp_rate, facecolor='lightgreen', alpha=0.7)\n",
    "plt.text(0.95, 0.05, 'AUC = %0.4f' % auc, ha='right', fontsize=12, weight='bold', color='blue')\n",
    "plt.xlabel(\"False Positive Rate\")\n",
    "plt.ylabel(\"True Positive Rate\")\n",
    "plt.show()"
   ]
  },
  {
   "cell_type": "markdown",
   "id": "a9c2e92e",
   "metadata": {},
   "source": [
    "# Support Vector Machines (SVM)"
   ]
  },
  {
   "cell_type": "code",
   "execution_count": 1379,
   "id": "752fe54b",
   "metadata": {},
   "outputs": [],
   "source": [
    "X_train, X_test, y_train, y_test = train_test_split(X, y, test_size=0.25)"
   ]
  },
  {
   "cell_type": "code",
   "execution_count": 1380,
   "id": "39faf39f",
   "metadata": {},
   "outputs": [
    {
     "data": {
      "text/plain": [
       "675"
      ]
     },
     "execution_count": 1380,
     "metadata": {},
     "output_type": "execute_result"
    }
   ],
   "source": [
    "len(X_train)"
   ]
  },
  {
   "cell_type": "code",
   "execution_count": 1381,
   "id": "f755c7bd",
   "metadata": {},
   "outputs": [
    {
     "data": {
      "text/plain": [
       "226"
      ]
     },
     "execution_count": 1381,
     "metadata": {},
     "output_type": "execute_result"
    }
   ],
   "source": [
    "len(X_test)"
   ]
  },
  {
   "cell_type": "code",
   "execution_count": 1382,
   "id": "709ddec4",
   "metadata": {},
   "outputs": [
    {
     "data": {
      "text/plain": [
       "SVC()"
      ]
     },
     "execution_count": 1382,
     "metadata": {},
     "output_type": "execute_result"
    }
   ],
   "source": [
    "from sklearn.svm import SVC\n",
    "model = SVC()\n",
    "model.fit(X_train, y_train)"
   ]
  },
  {
   "cell_type": "code",
   "execution_count": 1383,
   "id": "3dccf86c",
   "metadata": {},
   "outputs": [
    {
     "data": {
      "text/plain": [
       "0.6946902654867256"
      ]
     },
     "execution_count": 1383,
     "metadata": {},
     "output_type": "execute_result"
    }
   ],
   "source": [
    "model.score(X_test, y_test)"
   ]
  },
  {
   "cell_type": "markdown",
   "id": "3766d260",
   "metadata": {},
   "source": [
    "**Parameterization**\\\n",
    "*1. Regularization (C)*"
   ]
  },
  {
   "cell_type": "code",
   "execution_count": 1384,
   "id": "be37e3ec",
   "metadata": {},
   "outputs": [
    {
     "data": {
      "text/plain": [
       "1.0"
      ]
     },
     "execution_count": 1384,
     "metadata": {},
     "output_type": "execute_result"
    }
   ],
   "source": [
    "model_C = SVC(C=1000)\n",
    "model_C.fit(X_train, y_train)\n",
    "model_C.score(X_test, y_test)"
   ]
  },
  {
   "cell_type": "code",
   "execution_count": 1385,
   "id": "c40fc4bd",
   "metadata": {},
   "outputs": [
    {
     "data": {
      "text/plain": [
       "0.9070796460176991"
      ]
     },
     "execution_count": 1385,
     "metadata": {},
     "output_type": "execute_result"
    }
   ],
   "source": [
    "model_C = SVC(C=100)\n",
    "model_C.fit(X_train, y_train)\n",
    "model_C.score(X_test, y_test)"
   ]
  },
  {
   "cell_type": "markdown",
   "id": "4e43fc62",
   "metadata": {},
   "source": [
    "*2. Gamma*"
   ]
  },
  {
   "cell_type": "code",
   "execution_count": 644,
   "id": "c6db783e",
   "metadata": {},
   "outputs": [
    {
     "data": {
      "text/plain": [
       "0.5752212389380531"
      ]
     },
     "execution_count": 644,
     "metadata": {},
     "output_type": "execute_result"
    }
   ],
   "source": [
    "model_g = SVC(gamma=1)\n",
    "model_g.fit(X_train, y_train)\n",
    "model_g.score(X_test, y_test)"
   ]
  },
  {
   "cell_type": "markdown",
   "id": "8ae1ff58",
   "metadata": {},
   "source": [
    "*3. Kernel*"
   ]
  },
  {
   "cell_type": "code",
   "execution_count": 645,
   "id": "99cddf18",
   "metadata": {},
   "outputs": [
    {
     "data": {
      "text/plain": [
       "1.0"
      ]
     },
     "execution_count": 645,
     "metadata": {},
     "output_type": "execute_result"
    }
   ],
   "source": [
    "#some error possibly, outputs 1.0 no matter what\n",
    "model_linear_kernel = SVC(kernel='linear')\n",
    "model_linear_kernel.fit(X_train, y_train)\n",
    "\n",
    "model_linear_kernel.score(X_test, y_test)"
   ]
  },
  {
   "cell_type": "markdown",
   "id": "ba36d949",
   "metadata": {},
   "source": [
    "*Confusion Matrix*"
   ]
  },
  {
   "cell_type": "code",
   "execution_count": 1386,
   "id": "98712663",
   "metadata": {},
   "outputs": [
    {
     "data": {
      "text/plain": [
       "array([[ 88,   9],\n",
       "       [ 12, 117]])"
      ]
     },
     "execution_count": 1386,
     "metadata": {},
     "output_type": "execute_result"
    }
   ],
   "source": [
    "from sklearn.metrics import confusion_matrix\n",
    "y_pred = model_C.predict(X_test)\n",
    "cm = confusion_matrix(y_test, y_pred)\n",
    "cm"
   ]
  },
  {
   "cell_type": "code",
   "execution_count": 1387,
   "id": "f265e30f",
   "metadata": {
    "scrolled": false
   },
   "outputs": [
    {
     "data": {
      "text/plain": [
       "Text(58.222222222222214, 0.5, 'Truth')"
      ]
     },
     "execution_count": 1387,
     "metadata": {},
     "output_type": "execute_result"
    },
    {
     "data": {
      "image/png": "[encoded data removed]",
      "text/plain": [
       "<Figure size 700x500 with 2 Axes>"
      ]
     },
     "metadata": {
      "needs_background": "light"
     },
     "output_type": "display_data"
    }
   ],
   "source": [
    "%matplotlib inline\n",
    "import matplotlib.pyplot as plt\n",
    "import seaborn as sn\n",
    "plt.figure(figsize=(7,5), dpi=100)\n",
    "sn.heatmap(cm, annot=True, fmt='g')\n",
    "plt.xlabel('Predicted')\n",
    "plt.ylabel('Truth')"
   ]
  },
  {
   "cell_type": "code",
   "execution_count": 1390,
   "id": "b0e30a34",
   "metadata": {
    "scrolled": false
   },
   "outputs": [
    {
     "name": "stdout",
     "output_type": "stream",
     "text": [
      "              precision    recall  f1-score   support\n",
      "\n",
      "           0     0.8800    0.9072    0.8934        97\n",
      "           1     0.9286    0.9070    0.9176       129\n",
      "\n",
      "    accuracy                         0.9071       226\n",
      "   macro avg     0.9043    0.9071    0.9055       226\n",
      "weighted avg     0.9077    0.9071    0.9072       226\n",
      "\n"
     ]
    }
   ],
   "source": [
    "from sklearn.metrics import classification_report\n",
    "print(classification_report(y_test, y_pred, digits=4))"
   ]
  },
  {
   "cell_type": "code",
   "execution_count": 1391,
   "id": "a2c4eba3",
   "metadata": {},
   "outputs": [
    {
     "data": {
      "image/png": "[encoded data removed]",
      "text/plain": [
       "<Figure size 700x500 with 1 Axes>"
      ]
     },
     "metadata": {
      "needs_background": "light"
     },
     "output_type": "display_data"
    }
   ],
   "source": [
    "from sklearn.metrics import roc_auc_score\n",
    "\n",
    "auc = metrics.roc_auc_score(y_test, y_pred)\n",
    "fp_rate, tp_rate, thresholds = metrics.roc_curve(y_test, y_pred)\n",
    "\n",
    "plt.figure(figsize=(7, 5), dpi=100)\n",
    "plt.axis('scaled')\n",
    "plt.xlim([0, 1])\n",
    "plt.ylim([0, 1])\n",
    "plt.title(\"AUC & ROC Curve\")\n",
    "plt.plot(fp_rate, tp_rate, 'g')\n",
    "plt.fill_between(fp_rate, tp_rate, facecolor='lightgreen', alpha=0.7)\n",
    "plt.text(0.95, 0.05, 'AUC = %0.4f' % auc, ha='right', fontsize=12, weight='bold', color='blue')\n",
    "plt.xlabel(\"False Positive Rate\")\n",
    "plt.ylabel(\"True Positive Rate\")\n",
    "plt.show()"
   ]
  },
  {
   "cell_type": "markdown",
   "id": "7fb07223",
   "metadata": {},
   "source": [
    "# K-Nearest Neighbor (KNN)"
   ]
  },
  {
   "cell_type": "markdown",
   "id": "2724a9cd",
   "metadata": {},
   "source": [
    "*Create KNN (K Neighrest Neighbour Classifier)*"
   ]
  },
  {
   "cell_type": "code",
   "execution_count": 1392,
   "id": "6f6c75d7",
   "metadata": {
    "scrolled": true
   },
   "outputs": [
    {
     "data": {
      "text/plain": [
       "675"
      ]
     },
     "execution_count": 1392,
     "metadata": {},
     "output_type": "execute_result"
    }
   ],
   "source": [
    "len(X_train)"
   ]
  },
  {
   "cell_type": "code",
   "execution_count": 1393,
   "id": "8299ffb2",
   "metadata": {},
   "outputs": [
    {
     "data": {
      "text/plain": [
       "226"
      ]
     },
     "execution_count": 1393,
     "metadata": {},
     "output_type": "execute_result"
    }
   ],
   "source": [
    "len(X_test)"
   ]
  },
  {
   "cell_type": "code",
   "execution_count": 1485,
   "id": "e8a56d88",
   "metadata": {
    "scrolled": false
   },
   "outputs": [
    {
     "data": {
      "text/plain": [
       "KNeighborsClassifier(n_neighbors=200)"
      ]
     },
     "execution_count": 1485,
     "metadata": {},
     "output_type": "execute_result"
    }
   ],
   "source": [
    "from sklearn.neighbors import KNeighborsClassifier\n",
    "knn = KNeighborsClassifier(n_neighbors=200)\n",
    "knn.fit(X_train, y_train)"
   ]
  },
  {
   "cell_type": "code",
   "execution_count": 1486,
   "id": "cd8690e3",
   "metadata": {},
   "outputs": [
    {
     "data": {
      "text/plain": [
       "0.7123893805309734"
      ]
     },
     "execution_count": 1486,
     "metadata": {},
     "output_type": "execute_result"
    }
   ],
   "source": [
    "knn.score(X_test, y_test)"
   ]
  },
  {
   "cell_type": "markdown",
   "id": "f615a660",
   "metadata": {},
   "source": [
    "## *Plot Confusion Matrix*"
   ]
  },
  {
   "cell_type": "code",
   "execution_count": 1487,
   "id": "b6a0198a",
   "metadata": {},
   "outputs": [
    {
     "data": {
      "text/plain": [
       "array([[ 55,  42],\n",
       "       [ 23, 106]])"
      ]
     },
     "execution_count": 1487,
     "metadata": {},
     "output_type": "execute_result"
    }
   ],
   "source": [
    "from sklearn.metrics import confusion_matrix\n",
    "y_pred = knn.predict(X_test)\n",
    "cm = confusion_matrix(y_test, y_pred)\n",
    "cm"
   ]
  },
  {
   "cell_type": "code",
   "execution_count": 1488,
   "id": "a6df9ed9",
   "metadata": {},
   "outputs": [
    {
     "data": {
      "text/plain": [
       "Text(58.222222222222214, 0.5, 'Truth')"
      ]
     },
     "execution_count": 1488,
     "metadata": {},
     "output_type": "execute_result"
    },
    {
     "data": {
      "image/png": "[encoded data removed]",
      "text/plain": [
       "<Figure size 700x500 with 2 Axes>"
      ]
     },
     "metadata": {
      "needs_background": "light"
     },
     "output_type": "display_data"
    }
   ],
   "source": [
    "%matplotlib inline\n",
    "import matplotlib.pyplot as plt\n",
    "import seaborn as sn\n",
    "plt.figure(figsize=(7,5), dpi=100)\n",
    "sn.heatmap(cm, annot=True, fmt='g')\n",
    "plt.xlabel('Predicted')\n",
    "plt.ylabel('Truth')"
   ]
  },
  {
   "cell_type": "markdown",
   "id": "f15a2668",
   "metadata": {},
   "source": [
    "*Print classification report for precesion, recall and f1-score for each classes*"
   ]
  },
  {
   "cell_type": "code",
   "execution_count": 1489,
   "id": "aac81ee6",
   "metadata": {
    "scrolled": true
   },
   "outputs": [
    {
     "name": "stdout",
     "output_type": "stream",
     "text": [
      "              precision    recall  f1-score   support\n",
      "\n",
      "           0     0.7051    0.5670    0.6286        97\n",
      "           1     0.7162    0.8217    0.7653       129\n",
      "\n",
      "    accuracy                         0.7124       226\n",
      "   macro avg     0.7107    0.6944    0.6970       226\n",
      "weighted avg     0.7115    0.7124    0.7066       226\n",
      "\n"
     ]
    }
   ],
   "source": [
    "from sklearn.metrics import classification_report\n",
    "print(classification_report(y_test, y_pred, digits=4))"
   ]
  },
  {
   "cell_type": "code",
   "execution_count": 1491,
   "id": "11fd288f",
   "metadata": {
    "scrolled": true
   },
   "outputs": [
    {
     "data": {
      "image/png": "[encoded data removed]",
      "text/plain": [
       "<Figure size 700x500 with 1 Axes>"
      ]
     },
     "metadata": {
      "needs_background": "light"
     },
     "output_type": "display_data"
    }
   ],
   "source": [
    "from sklearn.metrics import roc_auc_score\n",
    "\n",
    "auc = metrics.roc_auc_score(y_test, y_pred)\n",
    "fp_rate, tp_rate, thresholds = metrics.roc_curve(y_test, y_pred)\n",
    "\n",
    "plt.figure(figsize=(7, 5), dpi=100)\n",
    "plt.axis('scaled')\n",
    "plt.xlim([0, 1])\n",
    "plt.ylim([0, 1])\n",
    "plt.title(\"AUC & ROC Curve\")\n",
    "plt.plot(fp_rate, tp_rate, 'g')\n",
    "plt.fill_between(fp_rate, tp_rate, facecolor='lightgreen', alpha=0.7)\n",
    "plt.text(0.95, 0.05, 'AUC = %0.4f' % auc, ha='right', fontsize=12, weight='bold', color='blue')\n",
    "plt.xlabel(\"False Positive Rate\")\n",
    "plt.ylabel(\"True Positive Rate\")\n",
    "plt.show()"
   ]
  },
  {
   "cell_type": "markdown",
   "id": "794afb05",
   "metadata": {},
   "source": [
    "# Naive-Bayes"
   ]
  },
  {
   "cell_type": "code",
   "execution_count": 1497,
   "id": "f859df91",
   "metadata": {},
   "outputs": [
    {
     "data": {
      "text/html": [
       "<div>\n",
       "<style scoped>\n",
       "    .dataframe tbody tr th:only-of-type {\n",
       "        vertical-align: middle;\n",
       "    }\n",
       "\n",
       "    .dataframe tbody tr th {\n",
       "        vertical-align: top;\n",
       "    }\n",
       "\n",
       "    .dataframe thead th {\n",
       "        text-align: right;\n",
       "    }\n",
       "</style>\n",
       "<table border=\"1\" class=\"dataframe\">\n",
       "  <thead>\n",
       "    <tr style=\"text-align: right;\">\n",
       "      <th></th>\n",
       "      <th>age</th>\n",
       "      <th>restingBP</th>\n",
       "      <th>cholesterol</th>\n",
       "      <th>fastingBS</th>\n",
       "      <th>maxHR</th>\n",
       "      <th>oldpeak</th>\n",
       "      <th>sex_n</th>\n",
       "      <th>cp_n</th>\n",
       "      <th>recg_n</th>\n",
       "      <th>exan_n</th>\n",
       "      <th>slo_n</th>\n",
       "    </tr>\n",
       "  </thead>\n",
       "  <tbody>\n",
       "    <tr>\n",
       "      <th>0</th>\n",
       "      <td>4</td>\n",
       "      <td>16</td>\n",
       "      <td>10.0</td>\n",
       "      <td>0</td>\n",
       "      <td>14</td>\n",
       "      <td>-1.0</td>\n",
       "      <td>1</td>\n",
       "      <td>2</td>\n",
       "      <td>1</td>\n",
       "      <td>0</td>\n",
       "      <td>0</td>\n",
       "    </tr>\n",
       "    <tr>\n",
       "      <th>1</th>\n",
       "      <td>4</td>\n",
       "      <td>13</td>\n",
       "      <td>30.0</td>\n",
       "      <td>0</td>\n",
       "      <td>12</td>\n",
       "      <td>2.0</td>\n",
       "      <td>1</td>\n",
       "      <td>0</td>\n",
       "      <td>1</td>\n",
       "      <td>1</td>\n",
       "      <td>1</td>\n",
       "    </tr>\n",
       "    <tr>\n",
       "      <th>2</th>\n",
       "      <td>7</td>\n",
       "      <td>10</td>\n",
       "      <td>20.0</td>\n",
       "      <td>0</td>\n",
       "      <td>12</td>\n",
       "      <td>4.0</td>\n",
       "      <td>1</td>\n",
       "      <td>2</td>\n",
       "      <td>0</td>\n",
       "      <td>0</td>\n",
       "      <td>0</td>\n",
       "    </tr>\n",
       "    <tr>\n",
       "      <th>3</th>\n",
       "      <td>5</td>\n",
       "      <td>12</td>\n",
       "      <td>20.0</td>\n",
       "      <td>0</td>\n",
       "      <td>14</td>\n",
       "      <td>-1.0</td>\n",
       "      <td>1</td>\n",
       "      <td>0</td>\n",
       "      <td>2</td>\n",
       "      <td>0</td>\n",
       "      <td>1</td>\n",
       "    </tr>\n",
       "    <tr>\n",
       "      <th>4</th>\n",
       "      <td>5</td>\n",
       "      <td>10</td>\n",
       "      <td>20.0</td>\n",
       "      <td>0</td>\n",
       "      <td>11</td>\n",
       "      <td>-1.0</td>\n",
       "      <td>1</td>\n",
       "      <td>0</td>\n",
       "      <td>2</td>\n",
       "      <td>0</td>\n",
       "      <td>2</td>\n",
       "    </tr>\n",
       "  </tbody>\n",
       "</table>\n",
       "</div>"
      ],
      "text/plain": [
       "   age  restingBP  cholesterol  fastingBS  maxHR  oldpeak  sex_n  cp_n  \\\n",
       "0    4         16         10.0          0     14     -1.0      1     2   \n",
       "1    4         13         30.0          0     12      2.0      1     0   \n",
       "2    7         10         20.0          0     12      4.0      1     2   \n",
       "3    5         12         20.0          0     14     -1.0      1     0   \n",
       "4    5         10         20.0          0     11     -1.0      1     0   \n",
       "\n",
       "   recg_n  exan_n  slo_n  \n",
       "0       1       0      0  \n",
       "1       1       1      1  \n",
       "2       0       0      0  \n",
       "3       2       0      1  \n",
       "4       2       0      2  "
      ]
     },
     "execution_count": 1497,
     "metadata": {},
     "output_type": "execute_result"
    }
   ],
   "source": [
    "inputs_n.head()"
   ]
  },
  {
   "cell_type": "code",
   "execution_count": 1745,
   "id": "240421a3",
   "metadata": {},
   "outputs": [],
   "source": [
    "from sklearn.model_selection import train_test_split\n",
    "X_train, X_test, y_train, y_test = train_test_split(inputs_n,target,test_size=0.25)"
   ]
  },
  {
   "cell_type": "code",
   "execution_count": 1746,
   "id": "dcac9c7e",
   "metadata": {},
   "outputs": [],
   "source": [
    "from sklearn.naive_bayes import GaussianNB\n",
    "model = GaussianNB()"
   ]
  },
  {
   "cell_type": "code",
   "execution_count": 1747,
   "id": "68269d2c",
   "metadata": {},
   "outputs": [
    {
     "data": {
      "text/plain": [
       "GaussianNB()"
      ]
     },
     "execution_count": 1747,
     "metadata": {},
     "output_type": "execute_result"
    }
   ],
   "source": [
    "model.fit(X_train,y_train)"
   ]
  },
  {
   "cell_type": "code",
   "execution_count": 1748,
   "id": "138e12a0",
   "metadata": {},
   "outputs": [
    {
     "data": {
      "text/plain": [
       "0.8053097345132744"
      ]
     },
     "execution_count": 1748,
     "metadata": {},
     "output_type": "execute_result"
    }
   ],
   "source": [
    "model.score(X_test,y_test)"
   ]
  },
  {
   "cell_type": "markdown",
   "id": "edeb0530",
   "metadata": {},
   "source": [
    "*Calculate the score using cross validation*"
   ]
  },
  {
   "cell_type": "code",
   "execution_count": 1749,
   "id": "f85f89cd",
   "metadata": {},
   "outputs": [
    {
     "data": {
      "text/plain": [
       "array([0.82222222, 0.77037037, 0.73333333, 0.73333333, 0.77037037])"
      ]
     },
     "execution_count": 1749,
     "metadata": {},
     "output_type": "execute_result"
    }
   ],
   "source": [
    "from sklearn.model_selection import cross_val_score\n",
    "cross_val_score(GaussianNB(),X_train, y_train, cv=5)"
   ]
  },
  {
   "cell_type": "markdown",
   "id": "ece85838",
   "metadata": {},
   "source": [
    "**Confusion Matrix**"
   ]
  },
  {
   "cell_type": "code",
   "execution_count": 1750,
   "id": "c4a24f4b",
   "metadata": {},
   "outputs": [
    {
     "data": {
      "text/plain": [
       "array([[89, 22],\n",
       "       [22, 93]])"
      ]
     },
     "execution_count": 1750,
     "metadata": {},
     "output_type": "execute_result"
    }
   ],
   "source": [
    "from sklearn.metrics import confusion_matrix\n",
    "y_pred = model.predict(X_test)\n",
    "cm = confusion_matrix(y_test, y_pred)\n",
    "cm"
   ]
  },
  {
   "cell_type": "code",
   "execution_count": 1751,
   "id": "a17826aa",
   "metadata": {},
   "outputs": [
    {
     "data": {
      "text/plain": [
       "Text(58.222222222222214, 0.5, 'Truth')"
      ]
     },
     "execution_count": 1751,
     "metadata": {},
     "output_type": "execute_result"
    },
    {
     "data": {
      "image/png": "[encoded data removed]",
      "text/plain": [
       "<Figure size 700x500 with 2 Axes>"
      ]
     },
     "metadata": {
      "needs_background": "light"
     },
     "output_type": "display_data"
    }
   ],
   "source": [
    "%matplotlib inline\n",
    "import matplotlib.pyplot as plt\n",
    "import seaborn as sn\n",
    "plt.figure(figsize=(7,5), dpi=100)\n",
    "sn.heatmap(cm, annot=True, fmt='g')\n",
    "plt.xlabel('Predicted')\n",
    "plt.ylabel('Truth')"
   ]
  },
  {
   "cell_type": "markdown",
   "id": "3f9eb012",
   "metadata": {},
   "source": [
    "*Print classification report for precesion, recall and f1-score for each classes*"
   ]
  },
  {
   "cell_type": "code",
   "execution_count": 1752,
   "id": "590ce072",
   "metadata": {
    "scrolled": true
   },
   "outputs": [
    {
     "name": "stdout",
     "output_type": "stream",
     "text": [
      "              precision    recall  f1-score   support\n",
      "\n",
      "           0     0.8018    0.8018    0.8018       111\n",
      "           1     0.8087    0.8087    0.8087       115\n",
      "\n",
      "    accuracy                         0.8053       226\n",
      "   macro avg     0.8052    0.8052    0.8052       226\n",
      "weighted avg     0.8053    0.8053    0.8053       226\n",
      "\n"
     ]
    }
   ],
   "source": [
    "from sklearn.metrics import classification_report\n",
    "print(classification_report(y_test, y_pred, digits=4))"
   ]
  },
  {
   "cell_type": "code",
   "execution_count": 1753,
   "id": "249276ec",
   "metadata": {
    "scrolled": true
   },
   "outputs": [
    {
     "data": {
      "image/png": "[encoded data removed]",
      "text/plain": [
       "<Figure size 700x500 with 1 Axes>"
      ]
     },
     "metadata": {
      "needs_background": "light"
     },
     "output_type": "display_data"
    }
   ],
   "source": [
    "from sklearn.metrics import roc_auc_score\n",
    "\n",
    "auc = metrics.roc_auc_score(y_test, y_pred)\n",
    "fp_rate, tp_rate, thresholds = metrics.roc_curve(y_test, y_pred)\n",
    "\n",
    "plt.figure(figsize=(7, 5), dpi=100)\n",
    "plt.axis('scaled')\n",
    "plt.xlim([0, 1])\n",
    "plt.ylim([0, 1])\n",
    "plt.title(\"AUC & ROC Curve\")\n",
    "plt.plot(fp_rate, tp_rate, 'g')\n",
    "plt.fill_between(fp_rate, tp_rate, facecolor='lightgreen', alpha=0.7)\n",
    "plt.text(0.95, 0.05, 'AUC = %0.4f' % auc, ha='right', fontsize=12, weight='bold', color='blue')\n",
    "plt.xlabel(\"False Positive Rate\")\n",
    "plt.ylabel(\"True Positive Rate\")\n",
    "plt.show()"
   ]
  },
  {
   "cell_type": "code",
   "execution_count": 1754,
   "id": "fe1de9e2",
   "metadata": {},
   "outputs": [
    {
     "name": "stdout",
     "output_type": "stream",
     "text": [
      "# of negative Heart Disease cases = 407\n",
      "# of positive Heart Disease cases = 494\n",
      "# of all Heart Disease cases = 901\n"
     ]
    }
   ],
   "source": [
    "print(\"# of negative Heart Disease cases =\", df['diagnosis'].value_counts()[0])\n",
    "print(\"# of positive Heart Disease cases =\", df['diagnosis'].value_counts()[1])\n",
    "print(\"# of all Heart Disease cases =\", df.shape[0])"
   ]
  },
  {
   "cell_type": "code",
   "execution_count": 1755,
   "id": "88309635",
   "metadata": {},
   "outputs": [
    {
     "data": {
      "text/plain": [
       "1.2137592137592137"
      ]
     },
     "execution_count": 1755,
     "metadata": {},
     "output_type": "execute_result"
    }
   ],
   "source": [
    "df['diagnosis'].value_counts()[1]/df['diagnosis'].value_counts()[0]"
   ]
  }
 ],
 "metadata": {
  "kernelspec": {
   "display_name": "Python 3 (ipykernel)",
   "language": "python",
   "name": "python3"
  },
  "language_info": {
   "codemirror_mode": {
    "name": "ipython",
    "version": 3
   },
   "file_extension": ".py",
   "mimetype": "text/x-python",
   "name": "python",
   "nbconvert_exporter": "python",
   "pygments_lexer": "ipython3",
   "version": "3.9.7"
  }
 },
 "nbformat": 4,
 "nbformat_minor": 5
}
